{
 "cells": [
  {
   "cell_type": "markdown",
   "id": "1bedd07b",
   "metadata": {},
   "source": [
    "# Régression logistique multiclasse"
   ]
  },
  {
   "cell_type": "markdown",
   "id": "99e131c4",
   "metadata": {},
   "source": [
    "_Pour ce Tp, hormis les bibliothèques numpy, sklearn et pyplot, nous avons utilisé $pandas$ et $seaborn$._"
   ]
  },
  {
   "cell_type": "code",
   "execution_count": 1,
   "id": "4015fb6d",
   "metadata": {},
   "outputs": [
    {
     "name": "stderr",
     "output_type": "stream",
     "text": [
      "<frozen importlib._bootstrap>:219: RuntimeWarning: scipy._lib.messagestream.MessageStream size changed, may indicate binary incompatibility. Expected 56 from C header, got 64 from PyObject\n"
     ]
    }
   ],
   "source": [
    "import numpy as np\n",
    "from numpy import exp\n",
    "from sklearn.datasets import load_digits\n",
    "import matplotlib.pyplot as plt\n",
    "from sklearn.metrics import f1_score\n",
    "from sklearn.model_selection import train_test_split\n",
    "from sklearn.linear_model import LogisticRegression\n",
    "import seaborn as sn"
   ]
  },
  {
   "cell_type": "markdown",
   "id": "014c22e6",
   "metadata": {},
   "source": [
    "#### 1. Commencez par charger les données relatives à un problème de reconnaissance de chiffresmanuscrits :"
   ]
  },
  {
   "cell_type": "code",
   "execution_count": 2,
   "id": "0886c691",
   "metadata": {},
   "outputs": [],
   "source": [
    "n_class = 10\n",
    "X,y = load_digits(n_class=n_class,return_X_y=True)"
   ]
  },
  {
   "cell_type": "markdown",
   "id": "8752ddd6",
   "metadata": {},
   "source": [
    "#### Visualisation du contenu de notre dataset"
   ]
  },
  {
   "cell_type": "code",
   "execution_count": 3,
   "id": "82d90611",
   "metadata": {},
   "outputs": [],
   "source": [
    "digits = load_digits()"
   ]
  },
  {
   "cell_type": "code",
   "execution_count": 4,
   "id": "f5ae1e12",
   "metadata": {},
   "outputs": [
    {
     "data": {
      "image/png": "[encoded data removed]",
      "text/plain": [
       "<Figure size 432x432 with 64 Axes>"
      ]
     },
     "metadata": {},
     "output_type": "display_data"
    }
   ],
   "source": [
    "fig = plt.figure(figsize=(6, 6))\n",
    "fig.subplots_adjust(left=0, right=1, bottom=0, top=1, hspace=0.05, wspace=0.05)\n",
    "\n",
    "for i in range(64):\n",
    "    ax = fig.add_subplot(8, 8, i + 1, xticks=[], yticks=[])\n",
    "    ax.imshow(digits.images[i], cmap=plt.cm.binary, interpolation='nearest')\n",
    "    ax.text(0, 7, str(y[i]))"
   ]
  },
  {
   "cell_type": "markdown",
   "id": "75ffca1e",
   "metadata": {},
   "source": [
    "### Commentaires: \n",
    "    \n",
    "    Comme son nom l'indique, ce dataset comprend les données de chiffres. De 0 à 9, ce qui nous donne 10 classes.\n",
    "A chaque classe, nous attribuons un label $y$ du nom de la classe(de 0 à 9).\n",
    "    \n",
    "Tous les chiffres ne sont pas repris avec la même fréquence. Nous pouvons l'observer sur l'image ci-haut.\n",
    "    \n",
    "    \n",
    "Nous allons implémenter la $régression$ $logistique$  $multiclasse$ et l'appliquer sur ces données afin de retrouver le plus fidèlement posssible les différentes classes auxquelles elles appartiennent."
   ]
  },
  {
   "cell_type": "markdown",
   "id": "8319a584",
   "metadata": {},
   "source": [
    "#### Normalisation des données"
   ]
  },
  {
   "cell_type": "code",
   "execution_count": 5,
   "id": "d4608c65",
   "metadata": {},
   "outputs": [],
   "source": [
    "def normalisation(data):\n",
    "    moy=data.mean()\n",
    "    var=data.std()\n",
    "    return (data-moy)/var\n",
    "#\n",
    "X = normalisation(X)"
   ]
  },
  {
   "cell_type": "markdown",
   "id": "cf80ef18",
   "metadata": {},
   "source": [
    "#### 2. Implémentez les fonctions permettant :\n",
    "\n",
    "    \n",
    "    ◦ de transformer les étiquettes des données en vecteurs de probabilités d’appartenance aux classes, à l’aide d’un encodage one-hot. Bien entendu, pour les données d’apprentissage, ces probabilités sont soit égales à 1 (pour la classe à laquelle appartient la donnée), soit égale à 0 (pour les autres classes).\n",
    "    \n",
    "    ◦ d’évaluer une fonction softmax étant donné un z = x.T@w\n",
    "    \n",
    "    ◦ d’estimer la probabilité d’appartenance d’un ensemble de données étant donné W."
   ]
  },
  {
   "cell_type": "markdown",
   "id": "c75ec5c7",
   "metadata": {},
   "source": [
    "#### _Fonction permettant de transformer les étiquettes des données en vecteurs de probabilités d’appartenance aux classes._"
   ]
  },
  {
   "cell_type": "code",
   "execution_count": 6,
   "id": "94e5bd75",
   "metadata": {},
   "outputs": [
    {
     "data": {
      "text/plain": [
       "array([[1., 0., 0., ..., 0., 0., 0.],\n",
       "       [0., 1., 0., ..., 0., 0., 0.],\n",
       "       [0., 0., 1., ..., 0., 0., 0.],\n",
       "       ...,\n",
       "       [0., 0., 0., ..., 0., 1., 0.],\n",
       "       [0., 0., 0., ..., 0., 0., 1.],\n",
       "       [0., 0., 0., ..., 0., 1., 0.]])"
      ]
     },
     "execution_count": 6,
     "metadata": {},
     "output_type": "execute_result"
    }
   ],
   "source": [
    "def oneHotEncodage(y,n_class):\n",
    "# insérer votre code ici\n",
    "    d = y.shape[0]\n",
    "    y_one = np.zeros((d,n_class)) \n",
    "    y_one[np.arange(d),y] = 1\n",
    "    return y_one\n",
    "#\n",
    "d=oneHotEncodage(y,n_class)\n",
    "d"
   ]
  },
  {
   "cell_type": "markdown",
   "id": "10d81d58",
   "metadata": {},
   "source": [
    "#### _Fonction Softmax_"
   ]
  },
  {
   "cell_type": "markdown",
   "id": "a40b7d67",
   "metadata": {},
   "source": [
    " _La fonction sotfmax est la probabilité de l’instance i d’appartenir à la classe k._\n",
    "\n",
    "\n",
    "$$p_i,_k = p(y = λ_k|x_i) = \\frac{exp(zi,j )}{\\sum_l exp(zi,l)}$$\n",
    "             \n",
    "             \n",
    "  "
   ]
  },
  {
   "cell_type": "code",
   "execution_count": 7,
   "id": "62ba1a60",
   "metadata": {},
   "outputs": [],
   "source": [
    "def softmax(z):\n",
    "    z -= np.max(z) # computational trick for numerical stability : Normalisation\n",
    "   # insérer votre code ici\n",
    "    sm = (np.exp(z.T) / np.sum(np.exp(z), axis=1)).T\n",
    "    return sm"
   ]
  },
  {
   "cell_type": "markdown",
   "id": "50e2d0eb",
   "metadata": {},
   "source": [
    "#### _Fonction qui renvoie la probabilité d’appartenance d’un ensemble de données étant donné W ainsi que sa classe d'appartenance suivant la probabilité maximum._"
   ]
  },
  {
   "cell_type": "code",
   "execution_count": 8,
   "id": "65b4ef9f",
   "metadata": {},
   "outputs": [],
   "source": [
    "def get_prob_pred(X,W):\n",
    "    # insérer votre code ici\n",
    "    w=W[:-1]\n",
    "    b=W[-1]\n",
    "    Z = X@w+b #X@W\n",
    "    P = softmax(Z)# proba de tous les i\n",
    "    probs = np.max(P,axis=1)\n",
    "    preds = np.argmax(P,axis=1)\n",
    "    p = np.sum(P,axis = 0) #p : Test somme de probabilité de toutes les classes doit être égale à 1.\n",
    "    return probs , preds"
   ]
  },
  {
   "cell_type": "markdown",
   "id": "a09d3c45",
   "metadata": {},
   "source": [
    "#### 3. Implémentez maintenant une fonction qui calcule la fonction de coût et le gradient."
   ]
  },
  {
   "cell_type": "markdown",
   "id": "5e5300a4",
   "metadata": {},
   "source": [
    "###### _Voici comment s'exprime la fonction coût  à minimiser:_ \n",
    "\n",
    "\n",
    "\n",
    "$$  min_w   \\frac{1}{n}*\\sum_i L(yi,y^ˆ_i) + \\frac{\\lambda}{2} \\sum_{i,j} W^2_{i,j} $$\n",
    "\n",
    "\n",
    "###### Voici son gradient : \n",
    "\n",
    "$$   \\frac{-1}{n}*(X.T@ (y_{mat} - prob)) + lam*W $$\n"
   ]
  },
  {
   "cell_type": "code",
   "execution_count": 9,
   "id": "3fb3dcbe",
   "metadata": {},
   "outputs": [
    {
     "data": {
      "text/plain": [
       "(64, 10)"
      ]
     },
     "execution_count": 9,
     "metadata": {},
     "output_type": "execute_result"
    }
   ],
   "source": [
    "def get_loss_grad(W,X,y,lam,n_class): # VRAIE FONCTION\n",
    "    y_mat = oneHotEncodage(y,n_class) # convert the integer class coding into a one-hot representation\n",
    "    scores = X@W # compute raw class scores given our input and current weights\n",
    "    prob = softmax(scores) # perform a softmax on these scores to get their probabilities\n",
    "    # insérer votre code ici\n",
    "    n=X.shape[0]\n",
    "    loss =(-1/n) * np.sum(y_mat * np.log(prob)) + (lam/2)*np.sum(W*W)\n",
    "    grad = (-1/n) * np.dot(X.T,(y_mat - prob)) + lam*W\n",
    "    return loss, grad\n",
    "#\n",
    "W = np.random.rand(X.shape[1],n_class)\n",
    "c, d = get_loss_grad(W,X,y,2,n_class)\n",
    "d.shape"
   ]
  },
  {
   "cell_type": "markdown",
   "id": "af16d16f",
   "metadata": {},
   "source": [
    "#### 4. Implémentez une descente de gradient avec backtracking pour optimiser les paramètres W."
   ]
  },
  {
   "cell_type": "markdown",
   "id": "0c08948a",
   "metadata": {},
   "source": [
    "_Implémentons d'abord une fonction qui renvoie une matrice à laquelle on a ajoute la colonne du biais._"
   ]
  },
  {
   "cell_type": "code",
   "execution_count": 10,
   "id": "daf0689a",
   "metadata": {},
   "outputs": [
    {
     "data": {
      "text/plain": [
       "(64, 10)"
      ]
     },
     "execution_count": 10,
     "metadata": {},
     "output_type": "execute_result"
    }
   ],
   "source": [
    "def matrice_augmente(data):\n",
    "    y=data.shape[0]\n",
    "    un=np.ones((y,1))\n",
    "    return np.hstack((data,un))\n",
    "#\n",
    "Xa=matrice_augmente(X)  \n",
    "#####\n",
    "W = np.random.rand(X.shape[1],n_class)\n",
    "c,d = get_loss_grad(W,X,y,2,n_class)\n",
    "d.shape"
   ]
  },
  {
   "cell_type": "markdown",
   "id": "83c62f96",
   "metadata": {},
   "source": [
    "_Implémentons maintenant le fonction du backtrack._"
   ]
  },
  {
   "cell_type": "code",
   "execution_count": 11,
   "id": "556c0939",
   "metadata": {},
   "outputs": [],
   "source": [
    "def backtrack(fonct,X,c,sigma0,rho):\n",
    "    sigma= sigma0\n",
    "    loss,grad = fonct(W,X,y,lam,n_class)\n",
    "    i=0\n",
    "    a,b=fonct((W-sigma*grad),X,y,lam,n_class)\n",
    "    while (a) < (loss + (c*sigma*(np.linalg.norm(-grad)))):\n",
    "        sigma=rho*sigma\n",
    "        loss,grad = fonct(W,X,y,lam,n_class)\n",
    "        a,b=fonct((W-sigma*grad),X,y,lam,n_class)\n",
    "        d=- grad\n",
    "        crit = grad.T@d\n",
    "        i=i+1\n",
    "        #print(\"i\",i)\n",
    "        return sigma\n",
    "#"
   ]
  },
  {
   "cell_type": "markdown",
   "id": "df81a712",
   "metadata": {},
   "source": [
    "_Implémentons maintenant l'algorithme de descente de gradient._\n",
    "\n",
    "Cette fonction nous renvoie le minimum de la fonction ainsi que la liste de valeurs de la fonction coût pour chaque itération."
   ]
  },
  {
   "cell_type": "code",
   "execution_count": 12,
   "id": "c59e6a56",
   "metadata": {},
   "outputs": [],
   "source": [
    "def gradient_descent(W0,X, Y,eps,backtrack,fonct): # VRAIE \n",
    "    k=0\n",
    "    W=W0\n",
    "    sigma=sigma0\n",
    "    loss,grad = fonct(W,X,y,lam,n_class)\n",
    "    loss_list=[loss]\n",
    "    norme=np.linalg.norm(grad)\n",
    "    #\n",
    "    while norme > eps:\n",
    "        d=-grad\n",
    "        crit = grad.T@-grad\n",
    "        sigma = backtrack(get_loss_grad,X,c,sigma0,rho)# Appel à backtracking\n",
    "        W = W-sigma*grad\n",
    "        loss,grad = fonct(W,X,y,lam,n_class)\n",
    "        loss_list.append(loss)\n",
    "        norme=np.linalg.norm(grad)      \n",
    "        k=k+1\n",
    "    #print(k)\n",
    "    return W,loss_list"
   ]
  },
  {
   "cell_type": "markdown",
   "id": "a4ee1ba0",
   "metadata": {},
   "source": [
    "##### Exécution de la fonction de descente de gradient"
   ]
  },
  {
   "cell_type": "markdown",
   "id": "1931beab",
   "metadata": {},
   "source": [
    "_Les différents paramètres de fonctions $backtrack$ et $gradient-descent$_ sont:"
   ]
  },
  {
   "cell_type": "code",
   "execution_count": 13,
   "id": "0aca957b",
   "metadata": {},
   "outputs": [
    {
     "name": "stdout",
     "output_type": "stream",
     "text": [
      "Les différentes valeurs de W pendant l'execution de la descente de gradient sont:\\[[-1.57257060e-03  4.22043889e-02 -1.85854717e-02  1.73177339e-03\n",
      "  -7.21497054e-02  6.51279596e-03  3.01037350e-02 -3.67053873e-02\n",
      "   3.04898108e-02  1.81938040e-02]\n",
      " [-1.14182975e-02  4.93559092e-03  2.18116995e-02  4.75874027e-02\n",
      "  -8.33315289e-02  7.45008385e-02  9.15104177e-03 -3.13536118e-02\n",
      "  -1.03275655e-02 -2.12113927e-02]\n",
      " [-3.29223743e-02 -1.08870765e-01  1.85118504e-01  2.08515722e-02\n",
      "  -2.12786193e-01  4.61513848e-01 -2.56212189e-01  5.82928211e-02\n",
      "  -7.22120989e-02 -4.24051640e-02]\n",
      " [ 1.19007157e-01  8.70840209e-03  8.21374493e-02  1.50679407e-01\n",
      "  -4.23640709e-01 -2.03516600e-02 -7.42581802e-02  1.70965576e-01\n",
      "  -1.98332223e-01  1.85466918e-01]\n",
      " [-2.24330036e-02 -5.39124214e-01  4.44333291e-03  4.24751752e-01\n",
      "  -1.59528754e-01  1.42493562e-01 -6.96163811e-02  1.77091038e-01\n",
      "   4.91273162e-02 -6.90718185e-03]\n",
      " [-2.41421510e-01  2.68665001e-01 -8.80010648e-02  2.17480832e-01\n",
      "  -4.71108140e-01  4.78962236e-01 -1.67469388e-01  2.12704134e-01\n",
      "  -5.26706947e-02 -1.56794840e-01]\n",
      " [-1.30941745e-01  2.91308206e-02 -7.28475213e-02  2.98488023e-04\n",
      "  -2.37870008e-01  3.11628921e-01 -3.12525438e-02  3.07285260e-01\n",
      "  -2.26290379e-01  5.11949923e-02]\n",
      " [-1.91580263e-02  1.65735652e-02 -2.42107821e-02 -6.33140397e-03\n",
      "  -1.99075115e-02 -5.14198084e-02  2.77085645e-02  1.08148643e-01\n",
      "   1.59105779e-03 -3.25480070e-02]\n",
      " [-1.70928561e-03  3.85073665e-02 -2.21225359e-02 -8.95007755e-04\n",
      "  -7.25548855e-02  6.10844624e-03  2.93204552e-02 -3.67800286e-02\n",
      "   4.31007463e-02  1.73799816e-02]\n",
      " [-4.21029691e-02 -2.54530385e-01  1.96685706e-01  1.45479571e-01\n",
      "  -7.75170732e-02  6.45677293e-02 -1.38094676e-01 -2.79626989e-02\n",
      "   5.67506171e-03  1.28120616e-01]\n",
      " [ 3.55077337e-02 -5.57539195e-01  1.62040947e-01  1.35599711e-01\n",
      "  -2.87365066e-01  2.61892071e-01 -2.12306341e-01  8.35679584e-02\n",
      "   1.83238976e-01  1.95754825e-01]\n",
      " [ 1.31660335e-01 -6.36437946e-02 -1.59556922e-02 -6.18299311e-02\n",
      "  -1.55463169e-01  8.90470547e-02  4.05907823e-02  1.20998652e-01\n",
      "  -9.65069750e-02  1.15164471e-02]\n",
      " [ 1.19622747e-01  2.28322920e-01  2.55310675e-01  6.99987849e-02\n",
      "  -3.18640288e-01 -5.59594584e-02 -3.09096339e-01  3.90057679e-01\n",
      "  -3.20020063e-01 -5.91894029e-02]\n",
      " [ 1.96153285e-01  7.10972438e-02 -6.51732514e-02  2.43842527e-01\n",
      "  -3.93228345e-01 -2.58093824e-01 -3.04590785e-01  7.49037910e-02\n",
      "   3.13529888e-01  1.21961418e-01]\n",
      " [-8.65979883e-02 -1.80331462e-01 -4.43786473e-02  1.62168934e-01\n",
      "  -1.53628092e-01 -4.41043950e-02 -3.60526446e-02  1.21060561e-01\n",
      "   9.64005139e-02  1.65761201e-01]\n",
      " [-1.92424747e-02  1.80732520e-02 -2.32697664e-02 -3.52030252e-03\n",
      "  -4.50985569e-02 -3.30135564e-02  2.58905052e-02  8.57116917e-02\n",
      "   1.49822098e-02 -2.01240537e-02]\n",
      " [-2.80369425e-03  5.58444111e-02 -1.99863343e-02  1.05747951e-03\n",
      "  -7.38111769e-02  1.48727756e-03  2.74881701e-02 -3.68473419e-02\n",
      "   3.06735371e-02  1.72126670e-02]\n",
      " [ 6.41288187e-02  6.05480212e-02  6.72634784e-03 -2.31919183e-02\n",
      "  -5.21809180e-02  9.14141365e-02 -1.62090313e-01 -2.13884229e-01\n",
      "   1.36300299e-01  9.24866400e-02]\n",
      " [ 1.85806452e-01 -6.24983174e-02 -1.67113262e-01 -6.30103438e-01\n",
      "   1.16649197e-01  2.99036922e-01  1.47829599e-01 -3.99590948e-01\n",
      "   2.39740863e-01  2.70525110e-01]\n",
      " [-5.89981574e-02  8.08914655e-01 -2.71084798e-01 -4.47276359e-01\n",
      "   2.01001922e-01 -1.60054665e-02  4.83483138e-02 -3.06564842e-01\n",
      "   2.05785621e-02  2.14993306e-02]\n",
      " [-3.36936761e-01  6.65267485e-01  1.46865813e-01  2.90466913e-01\n",
      "   3.83152937e-02 -5.07474658e-01 -4.06791230e-01  4.39900446e-02\n",
      "  -4.79743316e-02  1.14555995e-01]\n",
      " [ 3.01232165e-01 -6.56608430e-02  1.19627679e-02 -1.37310235e-01\n",
      "  -9.75662302e-03 -7.52678935e-01 -5.39790093e-01  6.96892329e-02\n",
      "   3.32932802e-01  7.89665553e-01]\n",
      " [ 7.16344724e-02 -6.14246731e-02  5.68581651e-02 -5.01957916e-02\n",
      "   5.17273883e-02 -4.04777136e-01 -1.02476604e-01  1.48620102e-01\n",
      "   1.19391977e-01  1.71022272e-01]\n",
      " [-6.30794346e-03  3.43410981e-02 -1.87420235e-02 -9.31420143e-04\n",
      "  -2.83525115e-02 -6.17712158e-03  2.63591995e-02 -2.16336379e-02\n",
      "   2.45406146e-02 -2.60412022e-03]\n",
      " [-2.19510019e-03  4.77482076e-02 -1.87357864e-02  1.74808716e-03\n",
      "  -7.02299192e-02  3.60016848e-03  2.88731417e-02 -3.68325728e-02\n",
      "   2.85017755e-02  1.77996003e-02]\n",
      " [ 1.62159187e-01  6.36809684e-02 -1.48623035e-01 -1.49203455e-01\n",
      "   1.57872421e-01  2.45347937e-01  2.20187266e-02 -2.27373795e-01\n",
      "  -1.02207687e-01 -2.32205263e-02]\n",
      " [ 1.61411937e-01  1.06374439e-01 -6.20723189e-01 -6.12466120e-01\n",
      "   4.43337937e-01  3.94510301e-01  1.45102495e-01 -1.83583372e-01\n",
      "  -1.00173419e-01  2.66608461e-01]\n",
      " [-3.43630062e-01  3.68691716e-01 -6.31278396e-01 -7.45900455e-02\n",
      "  -5.97725018e-02  1.08997530e-01  5.27655172e-03 -3.21309540e-01\n",
      "   4.86316856e-01  4.61620013e-01]\n",
      " [-6.60927602e-01  1.66343251e-01 -1.12953476e-01  2.67023832e-01\n",
      "   1.65630800e-02  1.52291338e-01 -2.24873751e-01  1.02847534e-02\n",
      "   6.66370576e-02  3.20060664e-01]\n",
      " [ 1.93286417e-02  5.74004060e-02 -6.47445173e-03 -5.26816883e-01\n",
      "   8.28786586e-02 -1.47233074e-01 -2.30830602e-01  3.26055849e-01\n",
      "  -4.33435644e-02  4.69390108e-01]\n",
      " [ 2.20050512e-01 -9.24360214e-02 -4.80592772e-02 -2.96145309e-01\n",
      "   4.29674255e-01 -2.19846007e-01 -2.05250307e-01  2.39621007e-01\n",
      "  -1.66495325e-01  1.39239492e-01]\n",
      " [-2.43374307e-03  4.18642590e-02 -1.85574902e-02  1.69534809e-03\n",
      "  -6.41264680e-02  6.25698245e-03  2.95408207e-02 -3.93665628e-02\n",
      "   3.00143208e-02  1.55557784e-02]\n",
      " [-1.52758054e-03  4.21845013e-02 -1.85857943e-02  1.70994116e-03\n",
      "  -7.21626556e-02  6.52475885e-03  3.00984223e-02 -3.66840160e-02\n",
      "   3.05096420e-02  1.81630419e-02]\n",
      " [ 2.25214379e-01 -3.25884790e-02 -1.27806481e-01 -9.62484705e-02\n",
      "   3.50838687e-01  2.05658455e-02  1.28359256e-01 -4.37694186e-03\n",
      "  -2.14922801e-01 -2.48662690e-01]\n",
      " [ 2.26424899e-01  2.00778072e-02 -4.46164908e-01 -2.98421853e-01\n",
      "   3.42132345e-01  1.18354380e-01  3.40989402e-01  6.70816255e-02\n",
      "  -1.94049336e-01 -1.76120825e-01]\n",
      " [-4.04368194e-01 -2.29321593e-02 -1.36971259e-01 -1.05599859e-01\n",
      "  -7.67917929e-02 -1.71418154e-01  2.39153033e-01  8.75505697e-02\n",
      "   4.84982872e-01  1.06753225e-01]\n",
      " [-5.91515970e-01  1.14114480e-01 -4.31006957e-02  2.83294603e-01\n",
      "   2.71966749e-01 -1.71101196e-01  8.68484613e-02  2.16362445e-01\n",
      "   2.35123907e-01 -4.01579828e-01]\n",
      " [-4.65740687e-02 -6.16266994e-02 -3.66234780e-01  4.06852027e-02\n",
      "   3.13535631e-01  6.46921661e-02  6.52140995e-02  3.88181062e-01\n",
      "  -3.88302014e-01 -9.15284964e-03]\n",
      " [ 2.01967761e-01 -1.98389100e-01 -2.44158003e-01 -4.78657295e-02\n",
      "   2.50049276e-01  1.11145299e-01  1.46203947e-02  2.24781029e-01\n",
      "  -3.78243724e-01  6.64808340e-02]\n",
      " [-1.56394218e-03  4.22023700e-02 -1.85889151e-02  1.76398221e-03\n",
      "  -7.21437410e-02  6.50118154e-03  3.01652843e-02 -3.66801584e-02\n",
      "   3.05213029e-02  1.82220109e-02]\n",
      " [-3.55966151e-03  4.15052405e-02 -1.86450526e-02  1.74784111e-03\n",
      "  -6.59635964e-02  6.41283805e-03  2.72453024e-02 -3.68183709e-02\n",
      "   3.03368655e-02  1.81764877e-02]\n",
      " [ 4.62738159e-02 -1.96687981e-01  5.34859581e-02 -2.42454907e-02\n",
      "   4.28498266e-01 -1.55531725e-01 -7.10000282e-02 -1.29318410e-02\n",
      "   7.26934511e-03 -7.46527972e-02]\n",
      " [ 4.10285659e-01 -1.92655920e-01  1.14225953e-01 -3.47711672e-01\n",
      "   6.99869456e-02 -4.34225329e-01  5.47364606e-01 -2.53458630e-02\n",
      "   4.58083197e-01 -5.99569776e-01]\n",
      " [-2.50579355e-01  2.17368177e-01  5.21850911e-01 -5.50484343e-01\n",
      "   4.20283716e-01 -2.70293868e-01  2.29007437e-01  2.34321315e-01\n",
      "   1.55412325e-01 -7.06465761e-01]\n",
      " [-2.84926934e-01  2.84054723e-01 -2.11826897e-01 -1.95140024e-03\n",
      "   4.56638976e-01 -1.31535196e-01 -6.33784091e-03  1.31167166e-01\n",
      "   1.56762343e-01 -3.91607227e-01]\n",
      " [ 8.90059184e-02 -2.66706860e-01 -5.17342978e-01  3.69287331e-01\n",
      "   1.38129129e-01  9.24709999e-02  1.18107218e-01 -9.87257350e-02\n",
      "   2.35470788e-01 -1.59400040e-01]\n",
      " [ 8.97088163e-02 -3.53001948e-01 -2.57367374e-01  3.61974743e-01\n",
      "  -5.12853260e-02  6.24473124e-02  3.34274107e-01 -8.11005409e-02\n",
      "  -1.26247678e-01  2.08928337e-02]\n",
      " [-2.18440940e-03  3.65104971e-02 -1.50644100e-02 -1.38127349e-03\n",
      "  -7.38774142e-02  5.11351574e-03  4.23028008e-02 -3.69871262e-02\n",
      "   2.72584857e-02  1.86731142e-02]\n",
      " [-8.27587370e-03  3.82819200e-02 -1.15168669e-02  1.58938305e-03\n",
      "  -6.04202512e-02  6.39707418e-03  2.59234303e-02 -3.71623365e-02\n",
      "   2.73540258e-02  1.81466255e-02]\n",
      " [-7.04168614e-02 -8.14404629e-02  1.35107744e-01 -1.43604873e-03\n",
      "   1.10372986e-01 -1.04954572e-02 -8.04994311e-02 -7.25784136e-02\n",
      "   1.55965250e-02  5.61666811e-02]\n",
      " [ 2.10797331e-01 -1.29006433e-01  1.72302382e-01 -4.37597128e-02\n",
      "  -2.43824546e-01 -1.11489209e-01  1.83340087e-01 -1.60253308e-01\n",
      "   3.01138179e-01 -1.78826777e-01]\n",
      " [ 2.39018738e-02  1.51593141e-01  5.26031564e-01 -2.36993804e-01\n",
      "  -2.08686044e-02 -1.47929604e-01  2.37279553e-01  1.29631354e-01\n",
      "  -3.75587455e-01 -2.86599513e-01]\n",
      " [ 1.18284825e-01  3.07495093e-01  4.06599729e-01  5.86443644e-02\n",
      "   1.52604929e-01  7.04011939e-02 -2.07497539e-01 -4.02859490e-01\n",
      "  -2.80987627e-01 -2.22340774e-01]\n",
      " [ 1.26576083e-01 -3.35704120e-02  3.51107412e-01  1.86270858e-01\n",
      "  -3.51391141e-01 -1.14322455e-02  2.95602137e-01 -5.55850244e-01\n",
      "   1.73897347e-01 -1.80823088e-01]\n",
      " [-1.00689961e-01 -1.43727505e-01  2.28352319e-01  2.72353714e-01\n",
      "  -2.98798874e-01 -1.48287009e-01  3.10839452e-01 -1.60301023e-01\n",
      "  -1.77320332e-02  5.84449363e-02]\n",
      " [-1.45792162e-02  1.61739971e-01  2.84751716e-02 -4.37583137e-02\n",
      "  -8.06204049e-02 -1.02279904e-02 -3.17458990e-02 -4.23792781e-02\n",
      "   1.71645622e-03  3.17319157e-02]\n",
      " [-1.58198865e-03  4.11215147e-02 -1.62207176e-02  1.71972605e-03\n",
      "  -7.22123090e-02  6.46366162e-03  3.00716059e-02 -3.68216056e-02\n",
      "   2.95656035e-02  1.81407145e-02]\n",
      " [-1.47334322e-02  4.78006877e-03  4.68365312e-02  3.54015350e-02\n",
      "  -8.35699004e-02  7.18055572e-02  1.00208653e-02 -4.95574992e-02\n",
      "   4.43711606e-04 -2.09490660e-02]\n",
      " [-7.11886309e-02 -2.12249028e-01  2.21248867e-01  2.12780179e-01\n",
      "  -1.72437729e-01  4.56040775e-01 -2.26483694e-01  8.96047493e-02\n",
      "  -3.09658362e-01  1.27767323e-02]\n",
      " [ 1.32102893e-01 -9.23527030e-02  9.15067846e-02  1.25912346e-01\n",
      "  -3.07694704e-01  2.38338576e-01 -1.37424535e-01 -1.49269747e-01\n",
      "   7.40639544e-02  2.52944451e-02]\n",
      " [-1.82748563e-02  1.13687459e-01  1.16782503e-01  1.10286284e-01\n",
      "  -9.86340910e-02 -5.46197005e-02  5.75093047e-02 -5.79249473e-01\n",
      "   2.75239942e-01  7.75647806e-02]\n",
      " [-1.23417705e-01  3.47175707e-01  4.35518174e-01  6.14284442e-02\n",
      "  -3.51666428e-01 -1.99954213e-01  3.66354704e-01 -4.15410665e-01\n",
      "  -4.21813225e-02 -7.75273671e-02]\n",
      " [-9.61187511e-02  2.53865275e-01  4.53365282e-01 -7.99097454e-02\n",
      "  -1.58231949e-01 -1.58217830e-01  4.21735569e-02 -1.22320241e-01\n",
      "  -1.11981829e-01 -2.22585958e-02]\n",
      " [-2.55825280e-02  2.88851422e-01  1.27462610e-01 -1.13295383e-01\n",
      "  -8.02100445e-02 -5.29296809e-02 -5.53331718e-02 -4.73711011e-02\n",
      "  -2.64721754e-02 -1.46478988e-02]\n",
      " [ 2.02368661e-03 -5.18912210e-02  2.29595050e-02 -2.06316096e-03\n",
      "   8.89248887e-02 -7.97338005e-03 -3.70628722e-02  4.53041961e-02\n",
      "  -3.75052372e-02 -2.23398935e-02]]\n"
     ]
    }
   ],
   "source": [
    "sigma0 = 2\n",
    "c=.2\n",
    "rho = 0.2\n",
    "W = np.random.rand(Xa.shape[1],n_class)\n",
    "#\n",
    "eps= 0.00001\n",
    "#np.random.seed(0) # Pour ne pas modofier le point de départ\n",
    "W0 = np.random.rand(Xa.shape[1],n_class) \n",
    "Y = y\n",
    "lam = 0.01\n",
    "\n",
    "rep,l = gradient_descent(W0,Xa, Y,eps,backtrack,get_loss_grad) # On doit avoir X augmentée. pour ajouter le biais à W\n",
    "print(\"Les différentes valeurs de W pendant l'execution de la descente de gradient sont:\\{}\".format(rep))"
   ]
  },
  {
   "cell_type": "code",
   "execution_count": null,
   "id": "09c28110",
   "metadata": {},
   "outputs": [],
   "source": []
  },
  {
   "cell_type": "markdown",
   "id": "9a19f9c2",
   "metadata": {},
   "source": [
    "#### 5. Évaluez l’erreur en classification sur les données d’apprentissage après entrainement."
   ]
  },
  {
   "cell_type": "markdown",
   "id": "f776eba1",
   "metadata": {},
   "source": [
    "Maintenant que notre $Régression$    $ logistique$  $multiclasse$ est mise en place, nous devons l'appliquer sur nos données.\n",
    "\n",
    "Divisons- les en deux parties: une partie pour l'apprentissage, une autre pour le test.\n",
    "Calculons ensuite la matrice de confusion et le taux de bonne classification.\n",
    "\n"
   ]
  },
  {
   "cell_type": "markdown",
   "id": "5413d020",
   "metadata": {},
   "source": [
    "#### _Division du dataset_"
   ]
  },
  {
   "cell_type": "code",
   "execution_count": 14,
   "id": "36bde6b4",
   "metadata": {},
   "outputs": [],
   "source": [
    "X_train, X_test, y_train, y_test = train_test_split(X, y, test_size=0.25,random_state=0)"
   ]
  },
  {
   "cell_type": "markdown",
   "id": "55181e92",
   "metadata": {},
   "source": [
    "### Apprentissage"
   ]
  },
  {
   "cell_type": "code",
   "execution_count": 15,
   "id": "eed1a9f1",
   "metadata": {},
   "outputs": [
    {
     "data": {
      "text/plain": [
       "array([[ 2.48710801e-03,  4.56176020e-02, -2.37844466e-02,\n",
       "         3.84752417e-03, -8.63379521e-02,  6.97307515e-04,\n",
       "         3.37142148e-02, -3.08848259e-02,  2.89092492e-02,\n",
       "         2.60325990e-02],\n",
       "       [-8.59324157e-03,  1.33292592e-03,  2.92436146e-02,\n",
       "         6.00519891e-02, -9.70756169e-02,  6.87936984e-02,\n",
       "         8.45858210e-03, -2.65038477e-02, -2.07625593e-02,\n",
       "        -1.46671355e-02],\n",
       "       [-5.45746487e-02, -7.34590027e-02,  1.71605479e-01,\n",
       "         2.01049196e-02, -1.63317948e-01,  4.79675246e-01,\n",
       "        -2.69015687e-01,  1.93796519e-02, -8.08016525e-02,\n",
       "        -4.92916301e-02],\n",
       "       [ 1.38921775e-01, -3.59038628e-02,  7.33177218e-02,\n",
       "         1.47626363e-01, -4.48764073e-01, -3.46183230e-02,\n",
       "        -5.41950051e-03,  1.52086346e-01, -1.85756728e-01,\n",
       "         1.98981507e-01],\n",
       "       [-2.25060794e-02, -6.00944029e-01, -5.77144475e-02,\n",
       "         3.96638113e-01, -1.88224675e-01,  1.61003273e-01,\n",
       "        -1.05646838e-01,  2.04871654e-01,  1.27224100e-01,\n",
       "         8.57465595e-02],\n",
       "       [-2.63356921e-01,  2.86033580e-01, -8.58742345e-02,\n",
       "         2.37976096e-01, -4.73940670e-01,  4.58559046e-01,\n",
       "        -1.53424446e-01,  1.81355826e-01, -3.40805844e-02,\n",
       "        -1.52756749e-01],\n",
       "       [-1.34031855e-01,  4.03183191e-02, -6.59986159e-02,\n",
       "        -4.80533502e-02, -2.69540553e-01,  3.07062825e-01,\n",
       "        -1.54321527e-02,  3.49289777e-01, -2.22468562e-01,\n",
       "         5.91679495e-02],\n",
       "       [-1.62020553e-02,  2.67355190e-02, -2.82263907e-02,\n",
       "        -8.22105681e-03, -8.16672669e-02, -6.73250932e-02,\n",
       "         3.15516104e-02,  1.57385581e-01,  2.54738722e-03,\n",
       "        -1.62804885e-02],\n",
       "       [ 2.30860401e-03,  4.35816404e-02, -2.70348860e-02,\n",
       "         6.16528479e-05, -8.65802764e-02,  2.79198467e-04,\n",
       "         3.25748500e-02, -3.09543141e-02,  4.05216921e-02,\n",
       "         2.57068189e-02],\n",
       "       [-3.73720231e-02, -2.52719046e-01,  1.78066976e-01,\n",
       "         1.73292683e-01, -7.57900738e-02,  9.05511902e-02,\n",
       "        -1.41181013e-01, -1.76106432e-02,  4.90667474e-03,\n",
       "         7.81100582e-02],\n",
       "       [ 2.82321540e-02, -5.84851775e-01,  1.66242639e-01,\n",
       "         6.19972124e-02, -2.96058086e-01,  3.05514243e-01,\n",
       "        -2.25117502e-01,  1.26308372e-01,  2.22025490e-01,\n",
       "         1.95976179e-01],\n",
       "       [ 1.50123596e-01, -7.86740257e-02, -2.03787742e-02,\n",
       "        -4.33628123e-02, -1.92422095e-01,  1.09073726e-01,\n",
       "         6.64410793e-02,  1.54321633e-01, -9.90663418e-02,\n",
       "        -4.57365844e-02],\n",
       "       [ 1.27455369e-01,  2.37831010e-01,  2.37265487e-01,\n",
       "         8.14320972e-02, -3.45563612e-01, -2.19181522e-02,\n",
       "        -3.21271929e-01,  3.87822697e-01, -3.48296223e-01,\n",
       "        -3.42936433e-02],\n",
       "       [ 1.85677881e-01,  3.77686298e-02, -8.50042251e-02,\n",
       "         2.74115845e-01, -4.04173348e-01, -2.93760806e-01,\n",
       "        -3.16171497e-01,  6.24391292e-02,  3.57671811e-01,\n",
       "         1.81767235e-01],\n",
       "       [-8.19484665e-02, -2.25634100e-01, -1.44751486e-02,\n",
       "         9.89229047e-02, -1.64348720e-01, -4.45728706e-02,\n",
       "        -1.86331354e-04,  1.28078417e-01,  1.59429999e-01,\n",
       "         1.45146642e-01],\n",
       "       [-1.30432973e-02,  2.79076288e-02, -2.72405748e-02,\n",
       "        -5.87798492e-03, -4.95339369e-02, -3.71717432e-02,\n",
       "         2.95687357e-02,  8.03373368e-02,  1.40109956e-02,\n",
       "        -1.85720338e-02],\n",
       "       [ 2.46171475e-03,  4.44959904e-02, -2.50407304e-02,\n",
       "         2.80462215e-03, -8.63420916e-02,  9.51615071e-06,\n",
       "         3.32143062e-02, -3.09518910e-02,  3.37893863e-02,\n",
       "         2.59588606e-02],\n",
       "       [ 8.42612848e-02,  1.39255979e-02,  2.84220371e-02,\n",
       "        -4.20906399e-02, -2.62830767e-02,  1.07753066e-01,\n",
       "        -1.38050412e-01, -2.14206393e-01,  1.12762062e-01,\n",
       "         7.38257242e-02],\n",
       "       [ 1.91490074e-01, -3.99886078e-02, -1.47178752e-01,\n",
       "        -6.46765597e-01,  9.12253417e-02,  2.91953949e-01,\n",
       "         1.71357196e-01, -3.64419492e-01,  2.12054241e-01,\n",
       "         2.40606577e-01],\n",
       "       [-6.35191555e-02,  7.83641519e-01, -3.14523421e-01,\n",
       "        -3.79774514e-01,  1.93852290e-01, -4.87576010e-02,\n",
       "         4.73749429e-02, -3.22037912e-01,  6.10954625e-02,\n",
       "         4.29625008e-02],\n",
       "       [-3.45754044e-01,  7.17850093e-01,  1.55648018e-01,\n",
       "         2.85686273e-01,  1.36941422e-02, -5.19996333e-01,\n",
       "        -3.84901452e-01,  5.88925630e-02, -7.82163422e-02,\n",
       "         9.75500881e-02],\n",
       "       [ 3.25263749e-01, -5.87066605e-02,  2.86923897e-02,\n",
       "        -1.60302459e-01,  1.00273790e-03, -7.88316075e-01,\n",
       "        -5.42804850e-01,  1.30810823e-01,  2.81701059e-01,\n",
       "         7.83041215e-01],\n",
       "       [ 7.65947424e-02, -7.26258108e-02,  2.79889029e-02,\n",
       "        -3.15247673e-02,  3.71501558e-02, -3.82553789e-01,\n",
       "        -8.55012310e-02,  1.39295271e-01,  1.32963776e-01,\n",
       "         1.58560227e-01],\n",
       "       [-1.58663073e-03,  3.88413640e-02, -2.39026684e-02,\n",
       "         3.63205101e-04, -4.16501389e-02, -9.16205149e-03,\n",
       "         2.98076926e-02, -1.42384970e-02,  2.37671360e-02,\n",
       "        -1.74138009e-03],\n",
       "       [ 2.47596772e-03,  4.35529513e-02, -2.37388004e-02,\n",
       "         3.80521759e-03, -8.28415314e-02, -2.40329908e-04,\n",
       "         3.36040130e-02, -3.10313877e-02,  2.87775201e-02,\n",
       "         2.60042530e-02],\n",
       "       [ 1.61233479e-01,  1.43996052e-02, -1.43502690e-01,\n",
       "        -1.33768339e-01,  1.43259314e-01,  2.27768098e-01,\n",
       "         2.89873190e-02, -2.04061664e-01, -5.10935940e-02,\n",
       "        -4.28697875e-02],\n",
       "       [ 1.68079071e-01,  1.05117876e-01, -5.87621901e-01,\n",
       "        -6.18948784e-01,  4.46442925e-01,  3.62130127e-01,\n",
       "         1.35509981e-01, -2.17596854e-01, -6.96578535e-02,\n",
       "         2.76922948e-01],\n",
       "       [-3.47767361e-01,  3.46633503e-01, -6.35722440e-01,\n",
       "        -7.10780517e-02, -4.39241379e-02,  7.23057157e-02,\n",
       "         4.45786742e-02, -3.31131270e-01,  4.88407721e-01,\n",
       "         4.78070916e-01],\n",
       "       [-6.79971183e-01,  2.28697414e-01, -6.32101606e-02,\n",
       "         1.93641378e-01,  3.08292843e-02,  1.63396761e-01,\n",
       "        -2.30193671e-01, -2.49375585e-02,  3.44557723e-02,\n",
       "         3.47676502e-01],\n",
       "       [ 3.85724673e-02,  1.33276753e-01, -2.80809214e-02,\n",
       "        -5.00174220e-01,  7.70705145e-02, -1.41374347e-01,\n",
       "        -2.72158622e-01,  3.16161370e-01, -7.71115752e-02,\n",
       "         4.54217348e-01],\n",
       "       [ 2.13634946e-01, -1.06666864e-01, -6.33634891e-02,\n",
       "        -2.73211023e-01,  4.02118390e-01, -2.07769498e-01,\n",
       "        -2.14059811e-01,  2.34116378e-01, -1.00816669e-01,\n",
       "         1.16383590e-01],\n",
       "       [ 1.38131954e-03,  4.54345050e-02, -2.37430774e-02,\n",
       "         3.83665453e-03, -8.20950846e-02,  6.25354173e-04,\n",
       "         3.30728664e-02, -3.09866550e-02,  2.87656915e-02,\n",
       "         2.40896953e-02],\n",
       "       [ 2.50990748e-03,  4.55760611e-02, -2.37935716e-02,\n",
       "         3.87043157e-03, -8.63550388e-02,  6.91857874e-04,\n",
       "         3.37794466e-02, -3.09162738e-02,  2.89457878e-02,\n",
       "         2.60171639e-02],\n",
       "       [ 1.99067359e-01,  2.50496509e-02, -1.35139178e-01,\n",
       "        -6.69962434e-02,  3.60623945e-01, -1.63373659e-02,\n",
       "         1.10514312e-01, -5.33336013e-02, -2.12758018e-01,\n",
       "        -2.10257048e-01],\n",
       "       [ 2.29457397e-01, -2.10353821e-02, -4.21229468e-01,\n",
       "        -3.03253548e-01,  2.99961449e-01,  1.26425918e-01,\n",
       "         4.00316047e-01,  6.84510973e-02, -2.30929783e-01,\n",
       "        -1.47827550e-01],\n",
       "       [-3.86472076e-01, -1.53107701e-02, -1.40028873e-01,\n",
       "        -8.43725893e-02, -1.09986967e-01, -1.87132823e-01,\n",
       "         2.47697570e-01,  8.77783572e-02,  4.81366029e-01,\n",
       "         1.06794770e-01],\n",
       "       [-5.95846415e-01,  1.08598503e-01, -4.77482336e-02,\n",
       "         3.34680681e-01,  2.61219632e-01, -1.41987958e-01,\n",
       "         3.51537758e-02,  2.29394284e-01,  2.36276582e-01,\n",
       "        -4.19366199e-01],\n",
       "       [-2.30344442e-02, -8.52586014e-02, -3.52522316e-01,\n",
       "         3.28629722e-02,  3.25543741e-01,  4.49359973e-02,\n",
       "         5.76451160e-02,  3.65016772e-01, -3.84387750e-01,\n",
       "         1.94980632e-02],\n",
       "       [ 1.83260442e-01, -1.57015870e-01, -2.47003442e-01,\n",
       "        -4.05419805e-02,  2.89117972e-01,  8.60684981e-02,\n",
       "        -1.42521580e-02,  1.81867738e-01, -3.62608525e-01,\n",
       "         8.14285324e-02],\n",
       "       [ 2.49038538e-03,  4.56237869e-02, -2.37587816e-02,\n",
       "         3.83070177e-03, -8.62959460e-02,  7.06246056e-04,\n",
       "         3.37510773e-02, -3.08751195e-02,  2.88903836e-02,\n",
       "         2.60357801e-02],\n",
       "       [ 1.57761055e-04,  4.50385391e-02, -2.38472778e-02,\n",
       "         3.79924128e-03, -8.04808640e-02,  6.20968655e-04,\n",
       "         3.13704286e-02, -3.10245348e-02,  2.86861317e-02,\n",
       "         2.60168936e-02],\n",
       "       [ 1.36568613e-02, -1.98233564e-01,  6.26491726e-02,\n",
       "         2.21783694e-03,  4.19456073e-01, -1.38107190e-01,\n",
       "        -7.59134714e-02, -1.79070250e-02, -8.45910259e-03,\n",
       "        -5.90435002e-02],\n",
       "       [ 4.02479389e-01, -1.89451962e-01,  1.18254327e-01,\n",
       "        -3.55056963e-01,  3.90538330e-02, -3.87980677e-01,\n",
       "         5.35043814e-01, -8.44534116e-04,  4.21121211e-01,\n",
       "        -5.82275478e-01],\n",
       "       [-2.33722651e-01,  2.40517981e-01,  5.18723378e-01,\n",
       "        -5.84566175e-01,  4.31695141e-01, -2.94417186e-01,\n",
       "         1.76903497e-01,  2.37091751e-01,  2.04999270e-01,\n",
       "        -6.96824154e-01],\n",
       "       [-2.76123932e-01,  3.05459096e-01, -1.85105283e-01,\n",
       "        -2.77829851e-02,  4.72513887e-01, -1.40558076e-01,\n",
       "         1.13316891e-02,  1.30635187e-01,  1.36956449e-01,\n",
       "        -4.27005816e-01],\n",
       "       [ 9.17945778e-02, -3.00927310e-01, -5.54922955e-01,\n",
       "         4.28000000e-01,  1.42149892e-01,  7.08731188e-02,\n",
       "         1.72241693e-01, -1.51539181e-01,  2.61719954e-01,\n",
       "        -1.59027902e-01],\n",
       "       [ 8.40263569e-02, -2.37696038e-01, -2.63579243e-01,\n",
       "         3.49539884e-01, -7.70024199e-02,  5.93420764e-02,\n",
       "         2.59358823e-01, -7.80011512e-02, -1.04953750e-01,\n",
       "         9.24202361e-03],\n",
       "       [ 1.58908351e-03,  3.53119641e-02, -1.76035731e-02,\n",
       "        -1.51921098e-03, -8.83029835e-02, -1.41851464e-03,\n",
       "         5.20166298e-02, -3.13575103e-02,  2.48319940e-02,\n",
       "         2.69381191e-02],\n",
       "       [-6.15662414e-03,  4.12283012e-02, -1.49520293e-02,\n",
       "         3.69910111e-03, -7.15152719e-02,  5.74704275e-04,\n",
       "         2.82344311e-02, -3.15462233e-02,  2.48670701e-02,\n",
       "         2.59626954e-02],\n",
       "       [-7.86723823e-02, -1.06279556e-01,  1.77985531e-01,\n",
       "        -1.21624246e-02,  1.06097467e-01,  1.05438711e-02,\n",
       "        -9.35876557e-02, -7.72550673e-02,  9.46431964e-03,\n",
       "         6.42888672e-02],\n",
       "       [ 1.95066174e-01, -1.31577919e-01,  2.04925028e-01,\n",
       "        -5.99077892e-02, -2.03837583e-01, -1.16964155e-01,\n",
       "         1.89627889e-01, -1.63852025e-01,  2.78828612e-01,\n",
       "        -1.91744307e-01],\n",
       "       [ 4.55814733e-02,  1.19310140e-01,  4.69903014e-01,\n",
       "        -2.18323263e-01, -2.99332872e-02, -1.33857327e-01,\n",
       "         2.58809688e-01,  1.33904868e-01, -3.40939915e-01,\n",
       "        -3.04078939e-01],\n",
       "       [ 1.60908827e-01,  2.96640988e-01,  3.99734393e-01,\n",
       "         5.78432989e-02,  1.63944033e-01,  4.82114471e-02,\n",
       "        -2.46924724e-01, -4.32885608e-01, -2.57553027e-01,\n",
       "        -1.89642573e-01],\n",
       "       [ 1.25125192e-01, -1.49643177e-03,  3.51121250e-01,\n",
       "         1.63958817e-01, -3.59972509e-01, -3.26744633e-02,\n",
       "         2.77586274e-01, -5.32806562e-01,  2.35675667e-01,\n",
       "        -2.26089130e-01],\n",
       "       [-9.07696655e-02, -8.74085536e-02,  2.09215811e-01,\n",
       "         2.98600942e-01, -3.09359499e-01, -1.29647253e-01,\n",
       "         2.94849434e-01, -1.63245932e-01, -4.43767296e-02,\n",
       "         2.26124227e-02],\n",
       "       [-6.04894605e-03,  1.14439308e-01,  4.90775112e-02,\n",
       "        -4.97065469e-02, -9.33352179e-02, -1.64319778e-02,\n",
       "         2.11608242e-03, -3.75716938e-02, -3.95990845e-03,\n",
       "         4.17097935e-02],\n",
       "       [ 2.39232853e-03,  4.43677627e-02, -2.07720336e-02,\n",
       "         3.79563622e-03, -8.64311158e-02,  6.81569734e-04,\n",
       "         3.36918090e-02, -3.10456594e-02,  2.76407664e-02,\n",
       "         2.60220342e-02],\n",
       "       [-1.26199724e-02,  1.31371734e-03,  5.99092705e-02,\n",
       "         4.40225101e-02, -9.24500464e-02,  7.31044867e-02,\n",
       "         8.63801002e-03, -5.42243495e-02, -1.24217475e-02,\n",
       "        -1.49160240e-02],\n",
       "       [-8.38766787e-02, -1.90172126e-01,  2.15554626e-01,\n",
       "         2.35750767e-01, -1.05173457e-01,  4.41769052e-01,\n",
       "        -2.55822382e-01,  2.62093369e-02, -2.72349399e-01,\n",
       "        -1.16445681e-02],\n",
       "       [ 1.50124918e-01, -1.68641032e-02,  7.45021225e-02,\n",
       "         1.68353560e-01, -3.44305733e-01,  2.28675645e-01,\n",
       "        -1.09232847e-01, -1.32340512e-01,  1.57028477e-02,\n",
       "        -3.43138254e-02],\n",
       "       [-3.16546221e-02,  1.09017161e-01,  1.12021641e-01,\n",
       "         1.29249680e-01, -7.96984792e-02, -6.96807563e-02,\n",
       "         5.59896613e-02, -5.84287308e-01,  2.29975728e-01,\n",
       "         1.29497969e-01],\n",
       "       [-1.45753797e-01,  3.64291365e-01,  4.52693085e-01,\n",
       "         5.11820421e-02, -3.47286697e-01, -1.94178624e-01,\n",
       "         3.22657395e-01, -3.85704010e-01, -2.74052078e-02,\n",
       "        -9.00989932e-02],\n",
       "       [-9.36726779e-02,  2.72171893e-01,  4.33937591e-01,\n",
       "        -9.65020923e-02, -1.81646663e-01, -1.29260245e-01,\n",
       "         1.31661509e-02, -1.22616744e-01, -5.14141692e-02,\n",
       "        -4.37125137e-02],\n",
       "       [-2.02470874e-02,  2.93858169e-01,  1.01065760e-01,\n",
       "        -1.00543677e-01, -9.52459585e-02, -6.55628385e-02,\n",
       "        -5.08658285e-02, -4.11209377e-02, -2.94523402e-02,\n",
       "         8.41442202e-03],\n",
       "       [-3.00075664e-03, -5.61204462e-02,  2.93181790e-02,\n",
       "        -4.64207120e-03,  1.06381736e-01, -8.06985961e-04,\n",
       "        -4.14697438e-02,  3.81893836e-02, -3.55614623e-02,\n",
       "        -3.20117472e-02]])"
      ]
     },
     "execution_count": 15,
     "metadata": {},
     "output_type": "execute_result"
    }
   ],
   "source": [
    "sigma0 = 2\n",
    "c=.2\n",
    "rho = 0.2\n",
    "#\n",
    "Xa=matrice_augmente(X_train)  \n",
    "X = Xa\n",
    "W = np.random.rand(Xa.shape[1],n_class)\n",
    "#\n",
    "eps= 0.00001\n",
    "#np.random.seed(0) # Pour ne pas modofier le point de départ\n",
    "W0 = np.random.rand(Xa.shape[1],n_class) \n",
    "y = y_train\n",
    "lam = 0.01\n",
    "#\n",
    "rep,l = gradient_descent(W0,Xa,y,eps,backtrack,get_loss_grad)\n",
    "rep"
   ]
  },
  {
   "cell_type": "markdown",
   "id": "846f3d71",
   "metadata": {},
   "source": [
    "#### _Probabilité d'appartenance à une classe après entrainement._"
   ]
  },
  {
   "cell_type": "code",
   "execution_count": 16,
   "id": "2efe79df",
   "metadata": {},
   "outputs": [
    {
     "name": "stdout",
     "output_type": "stream",
     "text": [
      "Valeurs de probabilités pour tous les individus d'appartenir à une classe [0.99281404 0.51922247 0.96678508 ... 0.96217861 0.9823207  0.95255266]\n"
     ]
    }
   ],
   "source": [
    "prob,pred= get_prob_pred(X_train,rep)\n",
    "#\n",
    "print(\"Valeurs de probabilités pour tous les individus d'appartenir à une classe\",prob)"
   ]
  },
  {
   "cell_type": "markdown",
   "id": "ca01ec1e",
   "metadata": {},
   "source": [
    "#### _Classification après entrainement._"
   ]
  },
  {
   "cell_type": "code",
   "execution_count": 17,
   "id": "4917617a",
   "metadata": {},
   "outputs": [
    {
     "name": "stdout",
     "output_type": "stream",
     "text": [
      "Les classes prédites [2 8 9 ... 7 7 8]\n"
     ]
    }
   ],
   "source": [
    "print(\"Les classes prédites\",pred)"
   ]
  },
  {
   "cell_type": "markdown",
   "id": "9bfca0f1",
   "metadata": {},
   "source": [
    "### TEST\n",
    "\n",
    "Testons le modèle avec le W obtenu de l'apprentissage."
   ]
  },
  {
   "cell_type": "code",
   "execution_count": 18,
   "id": "e58a6538",
   "metadata": {},
   "outputs": [
    {
     "name": "stdout",
     "output_type": "stream",
     "text": [
      "Valeurs de probabilités pour tous les individus d'appartenir à une classe [0.99173596 0.8545925  0.99700277 0.92261744 0.96340713 0.97418705\n",
      " 0.95706034 0.86004669 0.83714463 0.94459857 0.99171445 0.83483357\n",
      " 0.96348937 0.92349798 0.9530072  0.98214015 0.96859402 0.98958001\n",
      " 0.99262557 0.91861503 0.89747767 0.7958268  0.79308211 0.94690528\n",
      " 0.98596453 0.90345672 0.97875132 0.98608076 0.98014651 0.98636266\n",
      " 0.98505261 0.99227219 0.98554465 0.49078465 0.95530101 0.97906894\n",
      " 0.98231706 0.73418365 0.96602482 0.93077704 0.79141294 0.95370842\n",
      " 0.93952798 0.98177373 0.44468808 0.92623877 0.74378232 0.68011576\n",
      " 0.78233035 0.97367283 0.94098364 0.89683239 0.9582399  0.68566524\n",
      " 0.97208675 0.9743128  0.5432138  0.73322495 0.97663304 0.99211109\n",
      " 0.97212398 0.87439065 0.86322781 0.98449242 0.9028042  0.88109138\n",
      " 0.51899215 0.93697661 0.79442988 0.71416908 0.90750318 0.95337969\n",
      " 0.9322216  0.98247733 0.96059739 0.65159885 0.9457464  0.49432263\n",
      " 0.94005331 0.99708579 0.89548363 0.82883081 0.95386901 0.977491\n",
      " 0.57915761 0.53330601 0.96498921 0.97712911 0.91098446 0.98323666\n",
      " 0.54104001 0.85126367 0.98331826 0.94774382 0.48482352 0.95874287\n",
      " 0.98507846 0.79253423 0.98991434 0.51895919 0.95853001 0.84523818\n",
      " 0.94894531 0.77352964 0.67419    0.98630504 0.65388144 0.83697379\n",
      " 0.98482372 0.36888934 0.94947297 0.88613106 0.96437431 0.95515359\n",
      " 0.97706593 0.47436937 0.78960503 0.70660548 0.85561849 0.75359925\n",
      " 0.9151642  0.95349978 0.32356841 0.973605   0.59180681 0.68400118\n",
      " 0.97692236 0.98869903 0.68923845 0.83586507 0.5438647  0.63947284\n",
      " 0.83411057 0.96210627 0.96269747 0.90820136 0.91307294 0.96838762\n",
      " 0.95344437 0.92995197 0.68333491 0.8219629  0.9508134  0.91901096\n",
      " 0.96358597 0.93072217 0.97400679 0.78310238 0.96182464 0.98429633\n",
      " 0.79218997 0.89653923 0.8564087  0.96670378 0.98420707 0.81502074\n",
      " 0.61318279 0.79581975 0.4119079  0.98456099 0.97632678 0.86236695\n",
      " 0.96574218 0.94065518 0.96020141 0.93523755 0.83329965 0.78352921\n",
      " 0.82580951 0.4605633  0.87884878 0.92918336 0.96918229 0.80374316\n",
      " 0.91937144 0.86922998 0.98874488 0.65346512 0.9722656  0.96095842\n",
      " 0.9834356  0.55989909 0.97209198 0.83191014 0.70981462 0.60784288\n",
      " 0.91380152 0.89806712 0.98958654 0.92133015 0.93549423 0.86396568\n",
      " 0.94300558 0.90071451 0.99356272 0.94272767 0.4734287  0.96475107\n",
      " 0.96422762 0.99705825 0.70267315 0.97895366 0.92148715 0.98110397\n",
      " 0.97829295 0.9214792  0.97146401 0.68518819 0.96622513 0.91500314\n",
      " 0.94257658 0.40372842 0.74338878 0.31726298 0.91639862 0.59090218\n",
      " 0.97260396 0.76378138 0.64577219 0.94670467 0.70328682 0.98699908\n",
      " 0.86087895 0.78813321 0.89698726 0.95785475 0.98559524 0.86860096\n",
      " 0.95577604 0.86513399 0.96340708 0.99248181 0.97440449 0.9738759\n",
      " 0.91124217 0.46872882 0.98453536 0.98714367 0.98451391 0.97029326\n",
      " 0.89245038 0.85831092 0.5471767  0.96190925 0.84117396 0.88841509\n",
      " 0.60112614 0.90554259 0.9230125  0.91973023 0.96784104 0.70375477\n",
      " 0.42264329 0.93856988 0.9894993  0.83009886 0.79420663 0.98887501\n",
      " 0.94217636 0.96320548 0.94359756 0.89101923 0.9764813  0.90497266\n",
      " 0.89169568 0.60199019 0.96616525 0.9472674  0.97261437 0.74332804\n",
      " 0.96605116 0.96614258 0.95191257 0.60377574 0.99304373 0.61492506\n",
      " 0.98303459 0.63784523 0.91463373 0.79082113 0.95262121 0.93451642\n",
      " 0.99396573 0.98657548 0.93242878 0.8685577  0.86045282 0.96152945\n",
      " 0.98545668 0.93757291 0.95837773 0.96779584 0.95657022 0.96252454\n",
      " 0.93474939 0.99137845 0.98785126 0.93211288 0.85107444 0.91115644\n",
      " 0.98891249 0.42547721 0.84057637 0.9903095  0.98798652 0.67655115\n",
      " 0.95476208 0.92758433 0.99649421 0.56011937 0.98909846 0.82477548\n",
      " 0.25356891 0.89923888 0.81384791 0.647922   0.96066908 0.96949147\n",
      " 0.83020801 0.89590056 0.96129294 0.91513876 0.99139469 0.97806713\n",
      " 0.45104782 0.44681103 0.66204992 0.89680329 0.98703387 0.78352665\n",
      " 0.93110612 0.26015166 0.85600114 0.92916423 0.94091674 0.47123326\n",
      " 0.93352297 0.88630737 0.70849095 0.88632625 0.95708463 0.97224937\n",
      " 0.98779089 0.84596938 0.92614729 0.97701306 0.87997786 0.98482664\n",
      " 0.80523132 0.7237769  0.97425455 0.93210924 0.91388391 0.88324817\n",
      " 0.9080368  0.78048614 0.97629257 0.51725783 0.55023228 0.71614898\n",
      " 0.97021955 0.81975279 0.89836427 0.97515214 0.96963286 0.92911234\n",
      " 0.91036786 0.86719804 0.92089784 0.98283591 0.94167218 0.98167503\n",
      " 0.83404054 0.97699573 0.90348866 0.8874945  0.95870752 0.97467679\n",
      " 0.46995796 0.97883242 0.84225974 0.91248714 0.96150392 0.99217131\n",
      " 0.98268177 0.7148155  0.9791969  0.97056172 0.93983839 0.99535284\n",
      " 0.93258134 0.89843326 0.81009828 0.98339971 0.98417551 0.94670444\n",
      " 0.98621752 0.98071489 0.46791858 0.95689298 0.97817333 0.98043589\n",
      " 0.5735172  0.98608871 0.95173931 0.99035565 0.98870817 0.99129716\n",
      " 0.78266034 0.85202862 0.95628038 0.72330538 0.98649042 0.41789063\n",
      " 0.98573712 0.62197075 0.53468475 0.98337744 0.95934764 0.95461138\n",
      " 0.90688399 0.73562665 0.97202021 0.88903765 0.95835636 0.34175922\n",
      " 0.97970579 0.4201343  0.85778916 0.65426505 0.46619111 0.98378508\n",
      " 0.98359964 0.45611576 0.94012754 0.89159368 0.62137888 0.51335296\n",
      " 0.96541674 0.96680663 0.64199303 0.74601434 0.97565203 0.66433968\n",
      " 0.92267126 0.83049182 0.98157411 0.9641193  0.59467037 0.96582871]\n",
      "\n",
      "Les classes prédites [2 8 2 6 6 7 1 9 8 5 2 8 6 6 6 6 1 0 5 8 8 7 8 4 7 5 4 9 2 9 4 7 6 8 9 4 3\n",
      " 1 0 1 8 6 7 7 1 0 7 6 2 1 9 6 7 9 0 0 9 1 6 3 0 2 3 4 1 9 2 6 9 1 8 3 5 1\n",
      " 2 8 2 2 9 7 2 3 6 0 5 3 7 5 1 2 9 9 3 1 7 7 4 8 5 8 5 5 2 5 9 0 7 1 4 7 3\n",
      " 4 8 9 7 9 8 2 1 5 2 5 8 4 1 7 0 6 1 5 5 9 9 5 9 9 5 7 5 6 2 8 6 9 6 1 5 1\n",
      " 5 9 9 1 5 3 6 1 8 9 8 7 6 7 6 5 6 0 8 8 9 8 6 1 0 4 1 6 3 8 6 7 4 9 6 3 0\n",
      " 3 3 3 0 7 7 5 7 8 0 7 1 9 6 4 5 0 1 4 6 4 3 3 0 9 5 9 2 1 4 2 1 6 8 9 2 4\n",
      " 9 3 7 6 2 3 3 1 6 9 3 6 3 2 2 0 7 6 1 1 9 7 2 7 8 5 5 7 5 2 3 7 2 7 5 5 7\n",
      " 0 9 1 6 5 9 7 4 3 8 0 3 6 4 6 3 2 6 8 8 8 4 6 7 5 2 4 5 3 2 4 6 9 4 5 4 3\n",
      " 4 6 2 9 0 6 7 2 0 9 6 0 4 2 0 7 5 8 5 7 8 2 8 4 3 7 2 6 9 9 5 1 0 8 2 5 9\n",
      " 5 6 2 2 7 2 1 5 1 6 4 5 0 9 4 1 1 7 0 8 9 0 5 4 3 8 8 6 5 3 4 4 4 8 8 7 0\n",
      " 9 6 3 5 2 3 0 8 8 3 1 3 3 0 0 4 6 0 7 7 6 2 0 4 4 2 3 7 1 9 8 6 8 5 6 2 2\n",
      " 3 1 7 7 8 0 3 3 2 1 5 5 9 1 3 7 0 0 7 0 7 5 9 9 3 4 3 1 8 9 5 3 6 2 1 6 2\n",
      " 1 7 5 5 1 9]\n"
     ]
    }
   ],
   "source": [
    "probT,predT= get_prob_pred(X_test,rep)\n",
    "#\n",
    "print(\"Valeurs de probabilités pour tous les individus d'appartenir à une classe\",probT)\n",
    "print()\n",
    "print(\"Les classes prédites\",predT)"
   ]
  },
  {
   "cell_type": "code",
   "execution_count": null,
   "id": "84431243",
   "metadata": {},
   "outputs": [],
   "source": []
  },
  {
   "cell_type": "markdown",
   "id": "35c564ee",
   "metadata": {},
   "source": [
    "#### _Matrice de confusion_"
   ]
  },
  {
   "cell_type": "code",
   "execution_count": 19,
   "id": "476c7b36",
   "metadata": {},
   "outputs": [],
   "source": [
    "def matriceDeConfusion(data_app,data_test):\n",
    "    ConfusionMatrix=np.zeros((n_class,n_class),int)\n",
    "    for index, val in enumerate(data_app):\n",
    "        j=data_test[index]\n",
    "        ConfusionMatrix[val-1][j-1] +=1\n",
    "    return ConfusionMatrix"
   ]
  },
  {
   "cell_type": "markdown",
   "id": "1d9f918a",
   "metadata": {},
   "source": [
    "#### Pour les données d'apprentissage"
   ]
  },
  {
   "cell_type": "code",
   "execution_count": 20,
   "id": "26ff46f5",
   "metadata": {},
   "outputs": [
    {
     "data": {
      "image/png": "[encoded data removed]",
      "text/plain": [
       "<Figure size 432x288 with 2 Axes>"
      ]
     },
     "metadata": {
      "needs_background": "light"
     },
     "output_type": "display_data"
    }
   ],
   "source": [
    "sn.heatmap(matriceDeConfusion(y_train,pred),annot=True)\n",
    "plt.show()"
   ]
  },
  {
   "cell_type": "markdown",
   "id": "9dbafec0",
   "metadata": {},
   "source": [
    "#### Pour les données de test."
   ]
  },
  {
   "cell_type": "code",
   "execution_count": 21,
   "id": "2bf1ee84",
   "metadata": {},
   "outputs": [
    {
     "data": {
      "image/png": "[encoded data removed]",
      "text/plain": [
       "<Figure size 432x288 with 2 Axes>"
      ]
     },
     "metadata": {
      "needs_background": "light"
     },
     "output_type": "display_data"
    }
   ],
   "source": [
    "sn.heatmap(matriceDeConfusion(predT,y_test),annot=True)\n",
    "plt.show()"
   ]
  },
  {
   "cell_type": "markdown",
   "id": "c2469964",
   "metadata": {},
   "source": [
    "#### _Taux d'erreur_"
   ]
  },
  {
   "cell_type": "markdown",
   "id": "d4706e4b",
   "metadata": {},
   "source": [
    "#### Pour les données d'apprentissage"
   ]
  },
  {
   "cell_type": "code",
   "execution_count": 22,
   "id": "b8270769",
   "metadata": {},
   "outputs": [
    {
     "name": "stdout",
     "output_type": "stream",
     "text": [
      "Taux de bonne classifiaction 0.9792130660727543\n",
      "\n",
      "Taux d'erreur est  0.020786933927245732\n",
      "0.9792130660727543\n"
     ]
    }
   ],
   "source": [
    "taux = sum(pred == y_train)/(float(len(y_train)))\n",
    "print(\"Taux de bonne classifiaction\",taux)\n",
    "print()\n",
    "print(\"Taux d'erreur est \",1-taux)\n"
   ]
  },
  {
   "cell_type": "markdown",
   "id": "30e2a877",
   "metadata": {},
   "source": [
    "#### Pour les données de test."
   ]
  },
  {
   "cell_type": "code",
   "execution_count": 23,
   "id": "6a03f083",
   "metadata": {},
   "outputs": [
    {
     "name": "stdout",
     "output_type": "stream",
     "text": [
      "Taux de bonne classifiaction 0.9622222222222222\n",
      "\n",
      "Taux d'erreur est  0.0377777777777778\n"
     ]
    }
   ],
   "source": [
    "taux = sum(predT == y_test)/(float(len(y_test)))\n",
    "print(\"Taux de bonne classifiaction\",taux)\n",
    "print()\n",
    "print(\"Taux d'erreur est \",1-taux)"
   ]
  },
  {
   "cell_type": "markdown",
   "id": "6cf0aea4",
   "metadata": {},
   "source": [
    "### Commentaire:\n",
    "    \n",
    "    En tenant compte du taux d'erreur notre modèle est relativement bon. \n",
    "    \n",
    "    Les taux d'erreurs en apprentissage et en test sont très faible. "
   ]
  },
  {
   "cell_type": "code",
   "execution_count": null,
   "id": "b153339b",
   "metadata": {},
   "outputs": [],
   "source": [
    "  "
   ]
  },
  {
   "cell_type": "markdown",
   "id": "99a6b6bb",
   "metadata": {},
   "source": [
    " _Evaluation du Taux de bonne classification en fonction du paramètre $lam$._"
   ]
  },
  {
   "cell_type": "markdown",
   "id": "1feafaff",
   "metadata": {},
   "source": [
    "#### Pour les données d'apprentissage"
   ]
  },
  {
   "cell_type": "code",
   "execution_count": 24,
   "id": "b6b98b54",
   "metadata": {},
   "outputs": [],
   "source": [
    "sigma0 = 2\n",
    "c=.2\n",
    "rho = 0.2\n",
    "#\n",
    "Xa=matrice_augmente(X_train)  \n",
    "X = Xa\n",
    "W = np.random.rand(Xa.shape[1],n_class)\n",
    "#\n",
    "eps= 0.00001\n",
    "#np.random.seed(0) # Pour ne pas modofier le point de départ\n",
    "W0 = np.random.rand(Xa.shape[1],n_class) \n",
    "y = y_train\n",
    "#\n",
    "\n",
    "lam = 0.01\n",
    "rep1,l = gradient_descent(W0,Xa,Y,eps,backtrack,get_loss_grad) \n",
    "probT,pred1= get_prob_pred(X_train,rep1)\n",
    "taux1 = (sum(pred1 == y_train)/(float(len(y_train))))\n",
    " #\n",
    "lam = 0.1\n",
    "rep2,l = gradient_descent(W0,Xa,Y,eps,backtrack,get_loss_grad) \n",
    "probT,pred2= get_prob_pred(X_train,rep2)\n",
    "taux2 = (sum(pred2 == y_train)/(float(len(y_train))))\n",
    "#\n",
    "lam = 0.5\n",
    "rep3,l = gradient_descent(W0,Xa,Y,eps,backtrack,get_loss_grad)\n",
    "probT,pred3= get_prob_pred(X_train,rep3)\n",
    "taux3 = (sum(pred3 == y_train)/(float(len(y_train))))\n",
    "#\n",
    "lam = 0.8\n",
    "rep4,l = gradient_descent(W0,Xa,Y,eps,backtrack,get_loss_grad)\n",
    "probT,pred4= get_prob_pred(X_train,rep4)\n",
    "taux4 = (sum(pred4 == y_train)/(float(len(y_train))))\n",
    "#          \n",
    "    \n",
    "tauxLam = [taux1,taux2,taux3,taux4]"
   ]
  },
  {
   "cell_type": "code",
   "execution_count": 25,
   "id": "fbd99348",
   "metadata": {},
   "outputs": [
    {
     "name": "stdout",
     "output_type": "stream",
     "text": [
      "Le taux de bonne classification en fonction de lam  est  [0.9792130660727543, 0.947290274684484, 0.9220489977728286, 0.9101707498144024]\n"
     ]
    },
    {
     "data": {
      "image/png": "[encoded data removed]",
      "text/plain": [
       "<Figure size 432x288 with 1 Axes>"
      ]
     },
     "metadata": {
      "needs_background": "light"
     },
     "output_type": "display_data"
    }
   ],
   "source": [
    "print(\"Le taux de bonne classification en fonction de lam  est \",tauxLam)\n",
    "###\n",
    "plt.plot(tauxLam)\n",
    "plt.title(\"Evolution de lam\")\n",
    "plt.xlabel('Valeurs de lam ')\n",
    "plt.ylabel('taux')\n",
    "plt.show()"
   ]
  },
  {
   "cell_type": "markdown",
   "id": "1786abd1",
   "metadata": {},
   "source": [
    "#### Pour les données de Test"
   ]
  },
  {
   "cell_type": "code",
   "execution_count": 28,
   "id": "2533603d",
   "metadata": {},
   "outputs": [
    {
     "name": "stdout",
     "output_type": "stream",
     "text": [
      "Le taux de bonne classification en fonction de lam  est  [0.9622222222222222, 0.9288888888888889, 0.9, 0.8888888888888888]\n"
     ]
    },
    {
     "data": {
      "image/png": "[encoded data removed]",
      "text/plain": [
       "<Figure size 432x288 with 1 Axes>"
      ]
     },
     "metadata": {
      "needs_background": "light"
     },
     "output_type": "display_data"
    }
   ],
   "source": [
    "probT,predT1= get_prob_pred(X_test,rep1)\n",
    "taux1 = sum(predT1 == y_test)/(float(len(y_test)))\n",
    "#\n",
    "probT,predT2= get_prob_pred(X_test,rep2)\n",
    "taux2 = sum(predT2 == y_test)/(float(len(y_test)))\n",
    "#\n",
    "probT,predT3= get_prob_pred(X_test,rep3)\n",
    "taux3 = sum(predT3 == y_test)/(float(len(y_test)))\n",
    "#\n",
    "probT,predT4= get_prob_pred(X_test,rep4)\n",
    "taux4 = sum(predT4 == y_test)/(float(len(y_test)))\n",
    "#\n",
    "tauxLam = [taux1,taux2,taux3,taux4]\n",
    "#\n",
    "print(\"Le taux de bonne classification en fonction de lam  est \",tauxLam)\n",
    "###\n",
    "plt.plot(tauxLam)\n",
    "plt.title(\"Evolution de lam\")\n",
    "plt.xlabel('Valeurs de lam ')\n",
    "plt.ylabel('taux')\n",
    "plt.show()"
   ]
  },
  {
   "cell_type": "markdown",
   "id": "36bba703",
   "metadata": {},
   "source": [
    "### Commentaire:\n",
    "    \n",
    "    Plus grand devient le taux de régularisation 'lam', moins bon est le taux de bonne classification.\n",
    "    \n",
    "La régularisationle empêche le modèle de s'adapter de manière optimale aux données d'apprentissage.  Plus  le taux de régularisation devient grand, plus on s'éloigne du vrai minimum de la fonction.\n",
    "\n",
    "Cependant, le taux de régularisation ne devrait pas être trop petit car il nous conduira à un sur apprentissage. Nous pouvons observer la proportion de taux d'apprentissage par rapport au taux de test dans les figures ci-dessus.\n",
    "\n",
    "Plus le taux diminue en apprentissage, plus c'est le cas pour test."
   ]
  },
  {
   "cell_type": "markdown",
   "id": "d36829fa",
   "metadata": {},
   "source": [
    "#### 6. Affichez l’évolution de la fonction objective après chaque itération."
   ]
  },
  {
   "cell_type": "code",
   "execution_count": 29,
   "id": "789a21dc",
   "metadata": {},
   "outputs": [
    {
     "data": {
      "image/png": "[encoded data removed]",
      "text/plain": [
       "<Figure size 432x288 with 1 Axes>"
      ]
     },
     "metadata": {
      "needs_background": "light"
     },
     "output_type": "display_data"
    }
   ],
   "source": [
    "plt.plot(l)\n",
    "plt.title(\"Evolution de la fonction coût\")\n",
    "plt.xlabel('Itérations')\n",
    "plt.ylabel('Valeur de W')\n",
    "plt.show()"
   ]
  },
  {
   "cell_type": "code",
   "execution_count": 30,
   "id": "4be91672",
   "metadata": {},
   "outputs": [
    {
     "name": "stdout",
     "output_type": "stream",
     "text": [
      "Evolution de W après les itérations [89.09214923314842, 41.194113973356735, 19.606483132614912, 9.896474603909775, 5.465090667035932, 3.435072002219761, 2.5033525239747325, 2.075105249960733, 1.8781038798047593, 1.7874183127665302, 1.745651654120848, 1.7264081741238555, 1.7175385470831128, 1.713449408718218, 1.7115635734250896, 1.7106936957011154, 1.7102923178594227, 1.7101070795335434, 1.7100215612037297, 1.7099820710578866, 1.7099638280222331, 1.7099553976274335, 1.7099514997309104, 1.7099496965997178, 1.709948861870725, 1.7099484751512333, 1.7099482957965306, 1.7099482125151995, 1.7099481737826348, 1.7099481557354805, 1.7099481473063693, 1.7099481433582961, 1.7099481415024638, 1.7099481406264052, 1.7099481402106977, 1.7099481400122238, 1.7099481399167697, 1.7099481398704737, 1.7099481398478007]\n"
     ]
    }
   ],
   "source": [
    "print(\"Evolution de W après les itérations\",l)"
   ]
  },
  {
   "cell_type": "markdown",
   "id": "3f5f358b",
   "metadata": {},
   "source": [
    "### Commentaire:\n",
    "    \n",
    "    Nous pouvons observer comment la fonction baisse au fil des itérations."
   ]
  },
  {
   "cell_type": "markdown",
   "id": "e13df4fa",
   "metadata": {},
   "source": [
    "### Comparaison avec la fonction de Sklearn pour la régression logistique multiclasse."
   ]
  },
  {
   "cell_type": "code",
   "execution_count": 31,
   "id": "69cfac09",
   "metadata": {},
   "outputs": [
    {
     "name": "stdout",
     "output_type": "stream",
     "text": [
      "Score:  0.9673590504451038\n"
     ]
    }
   ],
   "source": [
    "X_train, X_test, y_train, y_test = train_test_split(X, y, test_size=0.25,random_state=0)\n",
    "#\n",
    "model = LogisticRegression(multi_class='multinomial',solver='lbfgs',max_iter = 500).fit(X_train,y_train)\n",
    "prediction=model.predict(X_test)\n",
    "t = f1_score(y_test,prediction,average='micro')\n",
    "print(\"Score: \",t)"
   ]
  },
  {
   "cell_type": "markdown",
   "id": "40010341",
   "metadata": {},
   "source": [
    "### Commentaires:\n",
    "\n",
    "\n",
    "\n",
    "Avec un taux de régularisation de $0.01$, nous trouvons pratiquement le même taux de bonne classification que la fonction de sklearn.\n",
    "\n",
    "sklearn utilise par défaut, la pénalité $l2$ c’est-à-dire que l’on ajoute une pénalité équivalente au carré de la taille des W contrairement à la pénalité $l1$ qui équivaut à la valeur absolue de la taille des W.  \n",
    "    "
   ]
  },
  {
   "cell_type": "code",
   "execution_count": null,
   "id": "538005d9",
   "metadata": {},
   "outputs": [],
   "source": []
  }
 ],
 "metadata": {
  "kernelspec": {
   "display_name": "Python 3",
   "language": "python",
   "name": "python3"
  },
  "language_info": {
   "codemirror_mode": {
    "name": "ipython",
    "version": 3
   },
   "file_extension": ".py",
   "mimetype": "text/x-python",
   "name": "python",
   "nbconvert_exporter": "python",
   "pygments_lexer": "ipython3",
   "version": "3.8.8"
  }
 },
 "nbformat": 4,
 "nbformat_minor": 5
}
